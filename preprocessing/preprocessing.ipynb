{
 "cells": [
  {
   "cell_type": "code",
   "execution_count": 1,
   "metadata": {},
   "outputs": [],
   "source": [
    "import os\n",
    "import pandas as pd\n",
    "import numpy as np\n",
    "from pandas.api.types import is_object_dtype\n",
    "from sklearn.impute import KNNImputer"
   ]
  },
  {
   "cell_type": "code",
   "execution_count": 170,
   "metadata": {},
   "outputs": [
    {
     "name": "stdout",
     "output_type": "stream",
     "text": [
      "(380, 12) (2477, 100) (2496, 16) (2477, 4) (2476, 4)\n"
     ]
    }
   ],
   "source": [
    "df_counties = pd.read_csv('data_own/data_counties.csv')\n",
    "df_municipalities = pd.read_csv('data_own/data_municipalities.csv')\n",
    "df_politics = pd.read_csv('data_own/wybory_2019_clear.csv')\n",
    "\n",
    "df_geopgraphy = pd.read_csv('data_own/spatial_municipality_corrected2.csv')\n",
    "df_geopgraphy = df_geopgraphy.drop(columns = ['Unnamed: 0']).rename(columns = {'mncplty_c': 'municipality_code'})\n",
    "df_geopgraphy.loc[lambda x: x['within_russian'].astype(int) == 1, 'partitions'] = 1\n",
    "df_geopgraphy.loc[lambda x: x['within_prussian'].astype(int) == 1, 'partitions'] = 2\n",
    "df_geopgraphy.loc[lambda x: x['within_austrian'].astype(int) == 1, 'partitions'] = 3\n",
    "df_geopgraphy = df_geopgraphy[['municipality_code', 'Longitude', 'Latitude', 'partitions']]\n",
    "\n",
    "df_places = pd.read_csv('data_own/processed_df_modellingV3.csv')\n",
    "df_places = df_places[['Longitude', 'Latitude', 'min_dist', 'no_loc_in10km']]\n",
    "\n",
    "print(df_counties.shape, df_municipalities.shape, df_politics.shape, df_geopgraphy.shape, df_places.shape)"
   ]
  },
  {
   "cell_type": "code",
   "execution_count": 171,
   "metadata": {},
   "outputs": [
    {
     "name": "stdout",
     "output_type": "stream",
     "text": [
      "(2477, 111)\n",
      "(2477, 128)\n",
      "(2477, 126)\n",
      "(2477, 126)\n",
      "(2477, 131)\n"
     ]
    }
   ],
   "source": [
    "df_politics = df_politics.rename(columns = {\n",
    "    \"Kod TERYT\": \"municipality_code\"\n",
    "}).rename(columns={col: col.replace(' ', '_') for col in df_politics.columns})\n",
    "\n",
    "df = df_municipalities.merge(df_counties, left_on=\"county_code\", right_on = \"county_code\")\n",
    "print(df.shape)\n",
    "\n",
    "df['municipality_code_politics'] = df['municipality_code'].astype(str).str[:-1].astype(int)\n",
    "df = df.merge(df_politics, left_on=\"municipality_code_politics\", right_on = \"municipality_code\", how = \"left\")\n",
    "print(df.shape)\n",
    "\n",
    "df = df.rename(columns = {'municipality_code_x': 'municipality_code'})\\\n",
    "    .drop(columns = ['municipality_code_politics', 'municipality_code_y'])\n",
    "\n",
    "columns_checking = ['appartments_per_1000_persons', 'unemployed_total',\n",
    "       'unemployed_f', 'unemployed_m', 'unemployed_up_to_25',\n",
    "       'unemployed_over_50', 'unemployed_long_term']\n",
    "print(df.shape)\n",
    "\n",
    "for column in columns_checking:\n",
    "    df[column] = df[column].str.replace(' ', '').astype(float)\n",
    "print(df.shape)\n",
    "\n",
    "df = df.merge(df_geopgraphy, on = 'municipality_code', how = \"left\")\n",
    "df = df.merge(df_places, left_on = ['Longitude', 'Latitude'], right_on = ['Longitude', 'Latitude'], how = \"left\")\n",
    "print(df.shape)"
   ]
  },
  {
   "cell_type": "code",
   "execution_count": 172,
   "metadata": {},
   "outputs": [],
   "source": [
    "df.loc[lambda x: x['municipality_code'] == 1465011] = df.loc[lambda x: x['municipality_code'] == 1465011].fillna(\n",
    "    df_politics.loc[lambda x: x['Powiat'] == \"Warszawa\"][[\n",
    "        'Liczba_wyborców_uprawnionych_do_głosowania',\n",
    "        'Liczba_otrzymanych_kopert_zwrotnych', 'Liczba_kart_nieważnych',\n",
    "        'Liczba_kart_ważnych', 'Liczba_głosów_nieważnych',\n",
    "        'Liczba_głosów_ważnych_oddanych_łącznie_na_wszystkie_listy_kandydatów',\n",
    "        'PO', 'Konfederacja', 'PSL', 'PIS', 'SLD', 'Inne'\n",
    "    ]].sum(axis = 0)\n",
    ").fillna({'min_dist': 0 ,'no_loc_in10km': 58}).fillna(\"nic\").copy()"
   ]
  },
  {
   "cell_type": "markdown",
   "metadata": {},
   "source": [
    "### Feature engenering"
   ]
  },
  {
   "cell_type": "code",
   "execution_count": 173,
   "metadata": {},
   "outputs": [],
   "source": [
    "columns_partie = ['PO', 'Konfederacja', 'PSL', 'PIS', 'SLD', 'Inne']\n",
    "object_columns = df.select_dtypes(include=['object'])\n",
    "\n",
    "df['type_of_municipality'] = df['municipality_code'].astype(str).str[-1].astype(int)\n",
    "\n",
    "for column in columns_partie:\n",
    "    df[f'{column}_percent'] = df[column] / df['Liczba_głosów_ważnych_oddanych_łącznie_na_wszystkie_listy_kandydatów']\n",
    "\n",
    "df['percent_vaccinated_01'] = df['percent_vaccinated'] / 100\n",
    "\n",
    "def logit_inverse(x):\n",
    "    return(1 / (1 + np.exp(-x)))\n",
    "\n",
    "def logit(x):\n",
    "    return np.log(x/(1-x))\n",
    "\n",
    "df['percent_vaccinated_01_r'] = logit(df['percent_vaccinated_01'])\n",
    "df['y'] = df['percent_vaccinated_01_r']\n",
    "\n",
    "df['population_total_f_ratio_total'] = df['population_total_f'] / df['population_total']\n",
    "df['frekwencja_wyborcza'] = df['Liczba_kart_ważnych'] / df['Liczba_wyborców_uprawnionych_do_głosowania']\n",
    "\n",
    "df['population_density_log'] = np.log(df['population_density'])\n",
    "df['population_density_sqrt'] = np.sqrt(df['population_density'])\n",
    "\n",
    "df['revenues_per_capita_PIT_log'] = np.log(df['revenues_per_capita_PIT'])\n",
    "df['SLD_percent_sqrt'] = np.sqrt(df['SLD_percent']) \n",
    "\n",
    "df['healthcare_advices_ratio_total'] = df['healthcare_advices'] / df['population_total']\n",
    "\n",
    "df['forests_area_ratio_area_km2'] = df['forests_area'] / df['area_km2']\n",
    "\n",
    "columns_ages = np.arange(start = 0, stop = 86, step = 5)\n",
    "columns_ages[1:] = columns_ages[1:] - 1\n",
    "\n",
    "columns_ages_str = list()\n",
    "\n",
    "for i, age in enumerate(columns_ages):\n",
    "    if i != 0:\n",
    "        columns_ages_str.append(f\"{columns_ages[i-1] + 1}_{columns_ages[i]}\")\n",
    "\n",
    "columns_ages_str[0] = \"0_4\"\n",
    "\n",
    "for age_group in columns_ages_str:\n",
    "    df[f\"population_{age_group}_total_percent\"] = df[f'population_{age_group}_total'] / df[\"population_total\"]\n",
    "    df[f\"population_{age_group}_total_f_ratio_age_group\"] = df[f'population_{age_group}_total_f'] / df[f'population_{age_group}_total']\n",
    "\n",
    "columns_ages_remove = [f'population_{age_group}_total_f' for age_group in columns_ages_str] +\\\n",
    "    [f'population_{age_group}_total_m' for age_group in columns_ages_str] +\\\n",
    "    [f'population_{age_group}_total' for age_group in columns_ages_str]\n",
    "\n",
    "columns_ages_remove_f_percent = [f'population_{age_group}_total_f_ratio_age_group' for age_group in columns_ages_str]\n",
    "\n",
    "df['unemployed_over_50_ratio_population_50_60'] = df['unemployed_over_50'] / df[[f'population_{age_group}_total' for age_group in columns_ages_str[10:12]]].sum(axis = 1)\n",
    "\n",
    "df['beds_in_hospitals_ratio_population'] = df['beds_in_hospitals'] / df.groupby('county_code')['population_total'].transform('sum')\n",
    "\n",
    "df['percent_over_60'] = df[[f'population_{age_group}_total' for age_group in columns_ages_str[12:]]].sum(axis = 1) / df['population_total']\n",
    "df['percent_under_18'] = df[[f'population_{age_group}_total' for age_group in columns_ages_str[:4]]].sum(axis = 1) / df['population_total']\n",
    "\n",
    "df['percent_over_60_squared'] = df['percent_over_60']**2\n",
    "\n",
    "df['cars_per_1_persons'] = df['cars_per_1000_persons'] / 1000\n",
    "df['persons_running_business_per_1_person'] = df['persons_running_business'] / df['population_total']\n",
    "df['entities_registered_per_1_persons'] = df['entities_registered_per_10k_persons'] / 10000\n",
    "\n",
    "df['county_code_random'] = df['county_code']\n",
    "indexes_shape_1 = df['county_code'].value_counts()[(df['county_code'].value_counts() == 1)].index\n",
    "df.loc[lambda x: x['county_code'].isin(indexes_shape_1)] = 1"
   ]
  },
  {
   "cell_type": "code",
   "execution_count": 174,
   "metadata": {},
   "outputs": [],
   "source": [
    "df_modelling = df.drop(columns = [\n",
    "    'population_total_m', 'population_total_f',\n",
    "    'municipality_code', 'municipality_name',\n",
    "    'area_km2',\n",
    "    'unemployment_rate_m', 'unemployment_rate_f',\n",
    "    'unemployed_total',\n",
    "    'unemployed_up_to_25', 'unemployed_over_50', 'unemployed_long_term',\n",
    "    'persons_running_business', 'entities_registered_per_10k_persons', 'healthcare_advices',\n",
    "    'percent_vaccinated', \"Inne_percent\",\n",
    "    'beds_in_hospitals',\n",
    "    'percent_vaccinated_01_r', 'percent_vaccinated_01'\n",
    "] + columns_ages_remove + columns_ages_remove_f_percent + df_politics.columns.tolist() + ['municipality_name',\n",
    " 'county_name',\n",
    " 'Gmina',\n",
    " 'Powiat',\n",
    " 'Województwo']\n",
    ").copy()"
   ]
  },
  {
   "cell_type": "markdown",
   "metadata": {},
   "source": [
    "### Imputation"
   ]
  },
  {
   "cell_type": "code",
   "execution_count": 175,
   "metadata": {},
   "outputs": [
    {
     "data": {
      "text/plain": [
       "revenues_per_capita                0\n",
       "net_scholarization                 0\n",
       "county_code_random                 0\n",
       "children_3_5_in_kindergartens      1\n",
       "forests_area                      16\n",
       "forests_area_ratio_area_km2       16\n",
       "healthcare_advices_ratio_total    59\n",
       "dtype: int64"
      ]
     },
     "execution_count": 175,
     "metadata": {},
     "output_type": "execute_result"
    }
   ],
   "source": [
    "df_modelling.isna().sum().sort_values().tail(7)"
   ]
  },
  {
   "cell_type": "code",
   "execution_count": 176,
   "metadata": {},
   "outputs": [],
   "source": [
    "data = df_modelling.copy()\n",
    "\n",
    "data_health = data[['Longitude', 'Latitude', 'healthcare_advices_ratio_total']].values\n",
    "data_forests_ratio = data[['Longitude', 'Latitude', 'forests_area_ratio_area_km2']].values\n",
    "data_forests_area = data[['Longitude', 'Latitude', 'forests_area']].values\n",
    "data_kinder = data[['Longitude', 'Latitude', 'children_3_5_in_kindergartens']].values\n",
    "data_tourists = data[['Longitude', 'Latitude', 'tourits_per_1000_persons']].values\n",
    "imputer = KNNImputer(n_neighbors=5)\n",
    "data_health = imputer.fit_transform(data_health)\n",
    "data_forests_ratio = imputer.fit_transform(data_forests_ratio)\n",
    "data_forests_area = imputer.fit_transform(data_forests_area)\n",
    "data_kinder = imputer.fit_transform(data_kinder)\n",
    "data_tourists = imputer.fit_transform(data_tourists)\n",
    "\n",
    "data[['Longitude', 'Latitude', 'healthcare_advices_ratio_total']] = data_health\n",
    "data[['Longitude', 'Latitude', 'forests_area_ratio_area_km2']] = data_forests_ratio\n",
    "data[['Longitude', 'Latitude', 'forests_area']] = data_forests_area\n",
    "data[['Longitude', 'Latitude', 'children_3_5_in_kindergartens']] = data_kinder\n",
    "data[['Longitude', 'Latitude', 'tourits_per_1000_persons']] = data_tourists\n",
    "\n",
    "df_modelling = data.copy()                                       "
   ]
  },
  {
   "cell_type": "code",
   "execution_count": 177,
   "metadata": {},
   "outputs": [
    {
     "data": {
      "text/plain": [
       "expenditures_per_capita          0\n",
       "revenues_per_capita_CIT          0\n",
       "revenues_per_capita_PIT          0\n",
       "revenues_per_capita              0\n",
       "bicycle_paths_per_10k_persons    0\n",
       "Longitude                        0\n",
       "county_code_random               0\n",
       "dtype: int64"
      ]
     },
     "execution_count": 177,
     "metadata": {},
     "output_type": "execute_result"
    }
   ],
   "source": [
    "df_modelling.isna().sum().sort_values().tail(7)"
   ]
  },
  {
   "cell_type": "markdown",
   "metadata": {},
   "source": [
    "### Saving data for modelling"
   ]
  },
  {
   "cell_type": "code",
   "execution_count": 178,
   "metadata": {},
   "outputs": [],
   "source": [
    "df_modelling.to_csv(\"processed_df_modelling.csv\")"
   ]
  }
 ],
 "metadata": {
  "kernelspec": {
   "display_name": "tsa",
   "language": "python",
   "name": "python3"
  },
  "language_info": {
   "codemirror_mode": {
    "name": "ipython",
    "version": 3
   },
   "file_extension": ".py",
   "mimetype": "text/x-python",
   "name": "python",
   "nbconvert_exporter": "python",
   "pygments_lexer": "ipython3",
   "version": "3.10.9"
  }
 },
 "nbformat": 4,
 "nbformat_minor": 2
}
